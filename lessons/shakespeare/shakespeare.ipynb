{
 "cells": [
  {
   "cell_type": "markdown",
   "metadata": {},
   "source": [
    "# Quantifying Shakespeare\n",
    "\n",
    "What are the frequencies of letters Shakespeare used in their complete works?"
   ]
  },
  {
   "cell_type": "code",
   "execution_count": 10,
   "metadata": {},
   "outputs": [
    {
     "name": "stdout",
     "output_type": "stream",
     "text": [
      "195958\n",
      "That thereby beauty’s rose might never die,\n",
      "\n"
     ]
    }
   ],
   "source": [
    "lines: list[str] = []\n",
    "file_handle = open(\"shakespeare.txt\", \"r\", encoding=\"utf8\")\n",
    "lines = file_handle.readlines()\n",
    "file_handle.close()\n",
    "\n",
    "print(len(lines))\n",
    "print(lines[5])"
   ]
  },
  {
   "cell_type": "markdown",
   "metadata": {},
   "source": [
    "Great! Now we can count the frequencies of all character values in Shakespeare. "
   ]
  },
  {
   "cell_type": "code",
   "execution_count": 11,
   "metadata": {},
   "outputs": [
    {
     "data": {
      "text/plain": [
       "{'f': 86039,\n",
       " 'r': 252569,\n",
       " 'o': 332835,\n",
       " 'm': 118009,\n",
       " 'a': 311115,\n",
       " 'i': 270991,\n",
       " 'e': 485743,\n",
       " 's': 268258,\n",
       " 't': 354684,\n",
       " 'c': 91830,\n",
       " 'u': 137306,\n",
       " 'w': 96161,\n",
       " 'd': 159283,\n",
       " 'n': 261360,\n",
       " 'h': 256569,\n",
       " 'b': 64084,\n",
       " 'y': 99428,\n",
       " 'g': 72735,\n",
       " 'v': 40426,\n",
       " 'p': 61490,\n",
       " 'l': 181154,\n",
       " 'k': 37838,\n",
       " 'z': 1795,\n",
       " 'x': 5399,\n",
       " 'q': 4000,\n",
       " 'j': 4935,\n",
       " 'æ': 71,\n",
       " 'œ': 17,\n",
       " 'à': 18,\n",
       " 'é': 53,\n",
       " 'è': 38,\n",
       " 'â': 2,\n",
       " 'ç': 52,\n",
       " 'î': 2,\n",
       " 'ê': 6,\n",
       " 'ë': 4}"
      ]
     },
     "execution_count": 11,
     "metadata": {},
     "output_type": "execute_result"
    }
   ],
   "source": [
    "frequencies: dict[str,int] = {}\n",
    "\n",
    "# For every line in lines\n",
    "for line in clean_lines:\n",
    "#   For every character in line\n",
    "    for character in line:\n",
    "#       Increase the count of occurences of that character\n",
    "        if character in frequencies:\n",
    "            frequencies[character] += 1 # Updating alue\n",
    "        else:\n",
    "            frequencies[character] = 1 # Adding key-value pair\n",
    "\n",
    "frequencies"
   ]
  },
  {
   "cell_type": "markdown",
   "metadata": {},
   "source": [
    "Removing non-alphabet characters and converting alphabetized characters to lowercase."
   ]
  },
  {
   "cell_type": "code",
   "execution_count": 12,
   "metadata": {},
   "outputs": [
    {
     "name": "stdout",
     "output_type": "stream",
     "text": [
      "thattherebybeautysrosemightneverdie\n"
     ]
    }
   ],
   "source": [
    "clean_lines: list[str] = []\n",
    "\n",
    "for line in lines:\n",
    "    clean_line: str = \"\"\n",
    "    for character in line:\n",
    "        if character.isalpha():\n",
    "            clean_line += character\n",
    "    clean_line = clean_line.lower()\n",
    "    clean_lines.append(clean_line)\n",
    "\n",
    "print(clean_lines[5])"
   ]
  },
  {
   "cell_type": "markdown",
   "metadata": {},
   "source": [
    "Count the total number of alphabetical characters and compute the likelihood of 'e'"
   ]
  },
  {
   "cell_type": "code",
   "execution_count": 14,
   "metadata": {},
   "outputs": [
    {
     "name": "stdout",
     "output_type": "stream",
     "text": [
      "4056299\n",
      "485743\n",
      "0.11975029454189644\n"
     ]
    }
   ],
   "source": [
    "total_alpha_characters: int = 0\n",
    "\n",
    "# Compute total number of characters in Shakespeare\n",
    "for k in frequencies:\n",
    "    total_alpha_characters += frequencies[k]\n",
    "\n",
    "print(total_alpha_characters)\n",
    "\n",
    "print(frequencies[\"e\"])\n",
    "\n",
    "print(frequencies[\"e\"] / total_alpha_characters)"
   ]
  }
 ],
 "metadata": {
  "kernelspec": {
   "display_name": "Python 3",
   "language": "python",
   "name": "python3"
  },
  "language_info": {
   "codemirror_mode": {
    "name": "ipython",
    "version": 3
   },
   "file_extension": ".py",
   "mimetype": "text/x-python",
   "name": "python",
   "nbconvert_exporter": "python",
   "pygments_lexer": "ipython3",
   "version": "3.12.4"
  }
 },
 "nbformat": 4,
 "nbformat_minor": 2
}
